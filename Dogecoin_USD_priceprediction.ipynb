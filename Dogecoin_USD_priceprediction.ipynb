{
 "cells": [
  {
   "metadata": {},
   "cell_type": "markdown",
   "source": " <h2 style=\"font-size: 24px;\">Dogecoin Price Predicition</h2> By Jodabeni Dondeli",
   "id": "8a77807f92f26ee"
  },
  {
   "metadata": {},
   "cell_type": "markdown",
   "source": " <p style=\"font-size: 18px;\">Data Preprocessing</p> For this Model we will be using Kaggle to obtain our dogecoin price data. ",
   "id": "48d2d248343a7381"
  },
  {
   "metadata": {
    "jupyter": {
     "is_executing": true
    }
   },
   "cell_type": "code",
   "source": [
    "import pandas as pd\n",
    "import kagglehub\n",
    "import os\n",
    "\n",
    "# Download latest version of the Doge dataset. \n",
    "path = kagglehub.dataset_download(\"lycheezz/historical-data-for-dogeusd-from-2017-to-present\")\n",
    "csv_file = os.path.join(path, 'Dogecoin-USD Historical Data.csv')\n",
    "\n"
   ],
   "id": "e17998c07a96dbc6",
   "outputs": [],
   "execution_count": null
  },
  {
   "metadata": {
    "ExecuteTime": {
     "end_time": "2024-12-01T21:56:18.479105Z",
     "start_time": "2024-12-01T21:56:18.440525Z"
    }
   },
   "cell_type": "code",
   "source": "print(\"Hello World!\")\n",
   "id": "fbc121e30a2defb3",
   "outputs": [
    {
     "name": "stdout",
     "output_type": "stream",
     "text": [
      "Hello World!\n"
     ]
    }
   ],
   "execution_count": 1
  },
  {
   "metadata": {
    "ExecuteTime": {
     "end_time": "2024-12-01T21:56:40.075229Z",
     "start_time": "2024-12-01T21:56:40.061232Z"
    }
   },
   "cell_type": "code",
   "source": "1+1",
   "id": "435412f294edee2f",
   "outputs": [
    {
     "data": {
      "text/plain": [
       "2"
      ]
     },
     "execution_count": 2,
     "metadata": {},
     "output_type": "execute_result"
    }
   ],
   "execution_count": 2
  },
  {
   "metadata": {},
   "cell_type": "code",
   "outputs": [],
   "execution_count": null,
   "source": "",
   "id": "7320e1b57dc20310"
  }
 ],
 "metadata": {
  "kernelspec": {
   "display_name": "Python 3",
   "language": "python",
   "name": "python3"
  },
  "language_info": {
   "codemirror_mode": {
    "name": "ipython",
    "version": 2
   },
   "file_extension": ".py",
   "mimetype": "text/x-python",
   "name": "python",
   "nbconvert_exporter": "python",
   "pygments_lexer": "ipython2",
   "version": "2.7.6"
  }
 },
 "nbformat": 4,
 "nbformat_minor": 5
}
